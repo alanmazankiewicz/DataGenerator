{
 "cells": [
  {
   "cell_type": "markdown",
   "metadata": {},
   "source": [
    "In this notebook, we call the DataGenerator.jar several times to generate data in the current directory. \n",
    "\n",
    "Then, \"transforms\" those images into plots. "
   ]
  },
  {
   "cell_type": "code",
   "execution_count": 114,
   "metadata": {
    "collapsed": true
   },
   "outputs": [],
   "source": [
    "import subprocess\n",
    "import os\n",
    "import pandas as pd\n",
    "\n",
    "from matplotlib import rc\n",
    "import matplotlib.pyplot as plt\n",
    "from mpl_toolkits.mplot3d import Axes3D\n",
    "\n",
    "rc('text', usetex=True)\n",
    "plt.style.use('seaborn-notebook')\n",
    "plt.rcParams['patch.edgecolor'] = 'black'"
   ]
  },
  {
   "cell_type": "markdown",
   "metadata": {},
   "source": [
    "## Visualize all 2D"
   ]
  },
  {
   "cell_type": "code",
   "execution_count": 115,
   "metadata": {},
   "outputs": [
    {
     "data": {
      "text/plain": [
       "0"
      ]
     },
     "execution_count": 115,
     "metadata": {},
     "output_type": "execute_result"
    }
   ],
   "source": [
    "args = (\"java\", \"-jar\", \"target/scala-2.12/DataGenerator.jar\", \"-d\", \"2\", \"-a\", \"write\")\n",
    "popen = subprocess.Popen(args, stdout=subprocess.PIPE)\n",
    "popen.wait()"
   ]
  },
  {
   "cell_type": "code",
   "execution_count": 116,
   "metadata": {
    "collapsed": true
   },
   "outputs": [],
   "source": [
    "here = os.path.dirname(os.path.realpath('__file__'))\n",
    "files = [x for x in os.listdir(here) if \".csv\" in x]"
   ]
  },
  {
   "cell_type": "code",
   "execution_count": 117,
   "metadata": {},
   "outputs": [
    {
     "name": "stderr",
     "output_type": "stream",
     "text": [
      "/home/fouchee/anaconda3/lib/python3.6/site-packages/matplotlib/pyplot.py:524: RuntimeWarning: More than 20 figures have been opened. Figures created through the pyplot interface (`matplotlib.pyplot.figure`) are retained until explicitly closed and may consume too much memory. (To control this warning, see the rcParam `figure.max_open_warning`).\n",
      "  max_open_warning, RuntimeWarning)\n"
     ]
    }
   ],
   "source": [
    "for file in files:\n",
    "    data = pd.read_csv(file)\n",
    "    \n",
    "    twodee = plt.figure(figsize=(4,4))\n",
    "    plt.scatter(data[\"1\"], data[\"2\"], edgecolor='black', linewidth=0.8, s=35)\n",
    "    plt.axis('off')\n",
    "    \n",
    "    name = \"-\".join(file.split(\"-\")[0:3])\n",
    "    plt.savefig(\"img/%s.png\"%name)\n",
    "    os.remove(file)"
   ]
  },
  {
   "cell_type": "markdown",
   "metadata": {},
   "source": [
    "## Visualize all 3D"
   ]
  },
  {
   "cell_type": "code",
   "execution_count": 118,
   "metadata": {},
   "outputs": [
    {
     "data": {
      "text/plain": [
       "0"
      ]
     },
     "execution_count": 118,
     "metadata": {},
     "output_type": "execute_result"
    }
   ],
   "source": [
    "args = (\"java\", \"-jar\", \"target/scala-2.12/DataGenerator.jar\", \"-d\", \"3\", \"-a\", \"write\")\n",
    "popen = subprocess.Popen(args, stdout=subprocess.PIPE)\n",
    "popen.wait()"
   ]
  },
  {
   "cell_type": "code",
   "execution_count": 119,
   "metadata": {
    "collapsed": true
   },
   "outputs": [],
   "source": [
    "here = os.path.dirname(os.path.realpath('__file__'))\n",
    "files = [x for x in os.listdir(here) if \".csv\" in x]"
   ]
  },
  {
   "cell_type": "code",
   "execution_count": 120,
   "metadata": {
    "scrolled": false
   },
   "outputs": [
    {
     "name": "stderr",
     "output_type": "stream",
     "text": [
      "/home/fouchee/anaconda3/lib/python3.6/site-packages/matplotlib/pyplot.py:524: RuntimeWarning: More than 20 figures have been opened. Figures created through the pyplot interface (`matplotlib.pyplot.figure`) are retained until explicitly closed and may consume too much memory. (To control this warning, see the rcParam `figure.max_open_warning`).\n",
      "  max_open_warning, RuntimeWarning)\n"
     ]
    }
   ],
   "source": [
    "# %matplotlib notebook\n",
    "for file in files[0::1]:\n",
    "    data = pd.read_csv(file)\n",
    "    \n",
    "    threedee = plt.figure(figsize=(5.5,5.5)).gca(projection='3d')\n",
    "\n",
    "    threedee.scatter(data['1'], data['2'], zs=data['3'], edgecolor='black', linewidth=0.8, s=35)\n",
    "    threedee.view_init(elev=18.0, azim=-60.8) # 36.8\n",
    "\n",
    "    threedee._axis3don = False\n",
    "    \n",
    "    plt.tight_layout()\n",
    "    name = \"-\".join(file.split(\"-\")[0:3])\n",
    "    plt.savefig(\"img/%s.png\"%name)\n",
    "    os.remove(file)"
   ]
  },
  {
   "cell_type": "markdown",
   "metadata": {
    "collapsed": true
   },
   "source": [
    "## Visualize Noise"
   ]
  },
  {
   "cell_type": "code",
   "execution_count": 155,
   "metadata": {
    "collapsed": true
   },
   "outputs": [],
   "source": [
    "for x in [0.0, 0.1, 0.2, 0.4, 0.6, 0.8, 1.0]:\n",
    "    args = (\"java\", \"-jar\", \"target/scala-2.12/DataGenerator.jar\", \n",
    "            \"-g\", \"l\", \"-d\", \"2\", \"-noise\", str(x), \"-ntype\", \"gaussian\",\"-a\", \"write\")\n",
    "    popen = subprocess.Popen(args, stdout=subprocess.PIPE)\n",
    "    popen.wait()\n",
    "\n",
    "    args = (\"java\", \"-jar\", \"target/scala-2.12/DataGenerator.jar\", \n",
    "            \"-g\", \"l\", \"-d\", \"2\", \"-noise\", str(x), \"-ntype\", \"uniform\",\"-a\", \"write\")\n",
    "    popen = subprocess.Popen(args, stdout=subprocess.PIPE)\n",
    "    popen.wait()"
   ]
  },
  {
   "cell_type": "code",
   "execution_count": 156,
   "metadata": {
    "collapsed": true
   },
   "outputs": [],
   "source": [
    "here = os.path.dirname(os.path.realpath('__file__'))\n",
    "files = [x for x in os.listdir(here) if \".csv\" in x]"
   ]
  },
  {
   "cell_type": "code",
   "execution_count": 157,
   "metadata": {},
   "outputs": [
    {
     "name": "stderr",
     "output_type": "stream",
     "text": [
      "/home/fouchee/anaconda3/lib/python3.6/site-packages/matplotlib/pyplot.py:524: RuntimeWarning: More than 20 figures have been opened. Figures created through the pyplot interface (`matplotlib.pyplot.figure`) are retained until explicitly closed and may consume too much memory. (To control this warning, see the rcParam `figure.max_open_warning`).\n",
      "  max_open_warning, RuntimeWarning)\n"
     ]
    }
   ],
   "source": [
    "for file in files:\n",
    "    data = pd.read_csv(file)\n",
    "    \n",
    "    twodee = plt.figure(figsize=(2,2))\n",
    "    plt.scatter(data[\"1\"], data[\"2\"], edgecolor='black', linewidth=0.5, s=15)\n",
    "    plt.axis('off')\n",
    "    \n",
    "    plt.tight_layout()\n",
    "    name = \"-\".join(file.split(\"-\")[0:5]) + \"-s\"\n",
    "    plt.savefig(\"img/%s.png\"%name)\n",
    "    os.remove(file)"
   ]
  },
  {
   "cell_type": "markdown",
   "metadata": {},
   "source": [
    "## Visualize Discretization"
   ]
  },
  {
   "cell_type": "code",
   "execution_count": 158,
   "metadata": {},
   "outputs": [],
   "source": [
    "for x in [100, 50, 10, 5, 3, 2, 1]:\n",
    "    args = (\"java\", \"-jar\", \"target/scala-2.12/DataGenerator.jar\", \n",
    "            \"-g\", \"l\", \"-d\", \"2\", \"-noise\", \"0.0\", \"-disc\", str(x),\"-a\", \"write\")\n",
    "    popen = subprocess.Popen(args, stdout=subprocess.PIPE)\n",
    "    popen.wait()"
   ]
  },
  {
   "cell_type": "code",
   "execution_count": 159,
   "metadata": {
    "collapsed": true
   },
   "outputs": [],
   "source": [
    "here = os.path.dirname(os.path.realpath('__file__'))\n",
    "files = [x for x in os.listdir(here) if \".csv\" in x]"
   ]
  },
  {
   "cell_type": "code",
   "execution_count": 160,
   "metadata": {},
   "outputs": [
    {
     "name": "stderr",
     "output_type": "stream",
     "text": [
      "/home/fouchee/anaconda3/lib/python3.6/site-packages/matplotlib/pyplot.py:524: RuntimeWarning: More than 20 figures have been opened. Figures created through the pyplot interface (`matplotlib.pyplot.figure`) are retained until explicitly closed and may consume too much memory. (To control this warning, see the rcParam `figure.max_open_warning`).\n",
      "  max_open_warning, RuntimeWarning)\n"
     ]
    }
   ],
   "source": [
    "for file in files:\n",
    "    data = pd.read_csv(file)\n",
    "    \n",
    "    twodee = plt.figure(figsize=(2,2))\n",
    "    plt.scatter(data[\"1\"], data[\"2\"], edgecolor='black', linewidth=0.5, s=15)\n",
    "    plt.axis('off')\n",
    "    \n",
    "    plt.tight_layout() \n",
    "    name = \".\".join(file.split(\".\")[:-1])  + \"-s\"\n",
    "    plt.savefig(\"img/%s.png\"%name)\n",
    "    os.remove(file)"
   ]
  },
  {
   "cell_type": "code",
   "execution_count": null,
   "metadata": {
    "collapsed": true
   },
   "outputs": [],
   "source": []
  }
 ],
 "metadata": {
  "kernelspec": {
   "display_name": "Python 3",
   "language": "python",
   "name": "python3"
  },
  "language_info": {
   "codemirror_mode": {
    "name": "ipython",
    "version": 3
   },
   "file_extension": ".py",
   "mimetype": "text/x-python",
   "name": "python",
   "nbconvert_exporter": "python",
   "pygments_lexer": "ipython3",
   "version": "3.6.2"
  }
 },
 "nbformat": 4,
 "nbformat_minor": 2
}
